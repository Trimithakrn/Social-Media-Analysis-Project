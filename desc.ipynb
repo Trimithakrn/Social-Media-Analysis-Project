{
 "cells": [
  {
   "cell_type": "code",
   "execution_count": 3,
   "metadata": {},
   "outputs": [
    {
     "name": "stdout",
     "output_type": "stream",
     "text": [
      "An error occurred: <HttpError 400 when requesting https://youtube.googleapis.com/youtube/v3/search?q=make+up&type=video&part=id&maxResults=10&key=YOUR_API_KEY&alt=json returned \"API key not valid. Please pass a valid API key.\". Details: \"[{'message': 'API key not valid. Please pass a valid API key.', 'domain': 'global', 'reason': 'badRequest'}]\">\n"
     ]
    }
   ],
   "source": [
    "import os\n",
    "import json\n",
    "from googleapiclient.discovery import build\n",
    "\n",
    "# Isi dengan kunci API Anda\n",
    "API_KEY = \"YOUR_API_KEY\"\n",
    "\n",
    "# Inisialisasi objek YouTube Data API\n",
    "youtube = build(\"youtube\", \"v3\", developerKey=API_KEY)\n",
    "\n",
    "\n",
    "def get_video_info_by_description(keyword):\n",
    "    try:\n",
    "        search_response = youtube.search().list(\n",
    "            q=keyword,\n",
    "            type=\"video\",\n",
    "            part=\"id\",\n",
    "            maxResults=10\n",
    "        ).execute()\n",
    "\n",
    "        video_ids = []\n",
    "        for search_result in search_response.get(\"items\", []):\n",
    "            video_ids.append(search_result[\"id\"][\"videoId\"])\n",
    "\n",
    "        video_info_list = []\n",
    "        for video_id in video_ids:\n",
    "            video_response = youtube.videos().list(\n",
    "                id=video_id,\n",
    "                part=\"snippet,statistics\"\n",
    "            ).execute()\n",
    "\n",
    "            video_info_list.append(video_response[\"items\"][0])\n",
    "\n",
    "        return video_info_list\n",
    "\n",
    "    except Exception as e:\n",
    "        print(\"An error occurred:\", e)\n",
    "        return []\n",
    "\n",
    "\n",
    "if __name__ == \"__main__\":\n",
    "    keyword = input(\"Masukkan kata kunci untuk pencarian video: \")\n",
    "    video_info_list = get_video_info_by_description(keyword)\n",
    "\n",
    "    for video_info in video_info_list:\n",
    "        snippet = video_info[\"snippet\"]\n",
    "        statistics = video_info[\"statistics\"]\n",
    "\n",
    "        print(\"Judul Video:\", snippet[\"title\"])\n",
    "        print(\"Deskripsi Video:\", snippet[\"description\"])\n",
    "        print(\"Tanggal Unggah:\", snippet[\"publishedAt\"])\n",
    "        print(\"Jumlah Tampilan:\", statistics[\"viewCount\"])\n",
    "        print(\"Jumlah Suka:\", statistics[\"likeCount\"])\n",
    "        print(\"Jumlah Tidak Suka:\", statistics[\"dislikeCount\"])\n",
    "        print(\"Jumlah Komentar:\", statistics[\"commentCount\"])\n",
    "        print(\"-\" * 50)\n"
   ]
  },
  {
   "cell_type": "code",
   "execution_count": null,
   "metadata": {},
   "outputs": [],
   "source": []
  },
  {
   "cell_type": "code",
   "execution_count": null,
   "metadata": {},
   "outputs": [],
   "source": []
  }
 ],
 "metadata": {
  "kernelspec": {
   "display_name": "Python 3",
   "language": "python",
   "name": "python3"
  },
  "language_info": {
   "codemirror_mode": {
    "name": "ipython",
    "version": 3
   },
   "file_extension": ".py",
   "mimetype": "text/x-python",
   "name": "python",
   "nbconvert_exporter": "python",
   "pygments_lexer": "ipython3",
   "version": "3.10.9"
  },
  "orig_nbformat": 4
 },
 "nbformat": 4,
 "nbformat_minor": 2
}
